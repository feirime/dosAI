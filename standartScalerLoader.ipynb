{
 "cells": [
  {
   "cell_type": "code",
   "execution_count": 1,
   "id": "237c7956",
   "metadata": {},
   "outputs": [],
   "source": [
    "import os\n",
    "import pandas as pd\n",
    "import numpy as np\n",
    "import torch\n",
    "from torch.utils.data import Dataset\n",
    "from torch.utils.data import DataLoader, random_split\n",
    "import torch.nn as nn\n",
    "import torch.nn.functional as F"
   ]
  },
  {
   "cell_type": "code",
   "execution_count": 2,
   "id": "e148d889",
   "metadata": {},
   "outputs": [],
   "source": [
    "class StandardizingDosDataset(Dataset):\n",
    "    def __init__(self, root_dir, skiprows=4, max_rows=None):\n",
    "        self.samples = []\n",
    "        self.root_dir = root_dir\n",
    "\n",
    "        all_data = []\n",
    "\n",
    "        for class_name in sorted(os.listdir(root_dir)):\n",
    "            class_path = os.path.join(root_dir, class_name)\n",
    "            if not os.path.isdir(class_path):\n",
    "                continue\n",
    "\n",
    "            try:\n",
    "                class_label = int(class_name.split(\"_\")[-1])\n",
    "            except ValueError:\n",
    "                continue\n",
    "\n",
    "            for fname in os.listdir(class_path):\n",
    "                if fname.endswith(\".dat\"):\n",
    "                    fpath = os.path.join(class_path, fname)\n",
    "                    df = pd.read_csv(fpath, sep='\\s+', skiprows=skiprows, header=None)\n",
    "                    \n",
    "                    if max_rows:\n",
    "                        df = df.iloc[:max_rows]\n",
    "\n",
    "                    all_data.append(df.values)\n",
    "                    for row in df.values:\n",
    "                        self.samples.append((row, class_label))\n",
    "\n",
    "        all_data = np.vstack(all_data)  # [N, D]\n",
    "        self.mean = torch.tensor(all_data.mean(axis=0), dtype=torch.float32)\n",
    "        self.std = torch.tensor(all_data.std(axis=0), dtype=torch.float32)\n",
    "\n",
    "    def __len__(self):\n",
    "        return len(self.samples)\n",
    "\n",
    "    def __getitem__(self, idx):\n",
    "        x_np, label = self.samples[idx]\n",
    "        x = torch.tensor(x_np, dtype=torch.float32)\n",
    "        x = (x - self.mean) / (self.std + 1e-8)  # стандартизация\n",
    "        return x, label\n"
   ]
  },
  {
   "cell_type": "code",
   "execution_count": 3,
   "id": "15823c56",
   "metadata": {},
   "outputs": [],
   "source": [
    "dos_file_path = '../../Datasets/dos64/'\n",
    "dataset = StandardizingDosDataset(dos_file_path)\n",
    "train_size = int(0.8 * len(dataset))\n",
    "val_size = len(dataset) - train_size\n",
    "train_dataset, val_dataset = random_split(dataset, [train_size, val_size])\n",
    "train_loader = DataLoader(train_dataset, batch_size=32, shuffle=True)\n",
    "val_loader = DataLoader(val_dataset, batch_size=32)\n"
   ]
  },
  {
   "cell_type": "code",
   "execution_count": 4,
   "id": "f251965e",
   "metadata": {},
   "outputs": [],
   "source": [
    "class dosClassifier(nn.Module):\n",
    "    def __init__(self, input_dim, hidden_dim=32, output_dim=3):\n",
    "        super().__init__()\n",
    "        self.fc1 = nn.Linear(input_dim, hidden_dim)\n",
    "        self.fc2 = nn.Linear(hidden_dim, output_dim)\n",
    "\n",
    "    def forward(self, x):\n",
    "        x = F.relu(self.fc1(x))\n",
    "        x = self.fc2(x)\n",
    "        return x  # логиты\n"
   ]
  },
  {
   "cell_type": "code",
   "execution_count": 5,
   "id": "8e42d64d",
   "metadata": {},
   "outputs": [
    {
     "name": "stdout",
     "output_type": "stream",
     "text": [
      "cuda\n",
      "Epoch 1, Loss: 0.3584\n",
      "Epoch 2, Loss: 0.3530\n",
      "Epoch 3, Loss: 0.3525\n"
     ]
    }
   ],
   "source": [
    "device = torch.device(\"cuda\" if torch.cuda.is_available() else \"cpu\")\n",
    "print(device)\n",
    "\n",
    "model = dosClassifier(input_dim=3).to(device)\n",
    "optimizer = torch.optim.Adam(model.parameters(), lr=1e-3)\n",
    "criterion = nn.CrossEntropyLoss()\n",
    "\n",
    "for epoch in range(3):\n",
    "    model.train()\n",
    "    total_loss = 0\n",
    "    for x, y in train_loader:\n",
    "        x, y = x.to(device), y.to(device)\n",
    "\n",
    "        optimizer.zero_grad()\n",
    "        logits = model(x)\n",
    "        loss = criterion(logits, y)\n",
    "        loss.backward()\n",
    "        optimizer.step()\n",
    "\n",
    "        total_loss += loss.item()\n",
    "\n",
    "    print(f\"Epoch {epoch+1}, Loss: {total_loss / len(train_loader):.4f}\")\n"
   ]
  },
  {
   "cell_type": "code",
   "execution_count": 6,
   "id": "18bda683",
   "metadata": {},
   "outputs": [
    {
     "name": "stdout",
     "output_type": "stream",
     "text": [
      "Accuracy: 89.98%\n"
     ]
    }
   ],
   "source": [
    "model.eval()\n",
    "correct = 0\n",
    "total = 0\n",
    "with torch.no_grad():\n",
    "    for x, y in val_loader:\n",
    "        x, y = x.to(device), y.to(device)\n",
    "        preds = torch.argmax(model(x), dim=1)\n",
    "        correct += (preds == y).sum().item()\n",
    "        total += y.size(0)\n",
    "\n",
    "print(f\"Accuracy: {correct / total:.2%}\")\n"
   ]
  },
  {
   "cell_type": "code",
   "execution_count": 7,
   "id": "36361607",
   "metadata": {},
   "outputs": [],
   "source": [
    "torch.save(model.state_dict(), \"model.pth\")"
   ]
  }
 ],
 "metadata": {
  "kernelspec": {
   "display_name": "Python 3",
   "language": "python",
   "name": "python3"
  },
  "language_info": {
   "codemirror_mode": {
    "name": "ipython",
    "version": 3
   },
   "file_extension": ".py",
   "mimetype": "text/x-python",
   "name": "python",
   "nbconvert_exporter": "python",
   "pygments_lexer": "ipython3",
   "version": "3.10.12"
  }
 },
 "nbformat": 4,
 "nbformat_minor": 5
}
