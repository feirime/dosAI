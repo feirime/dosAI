{
 "cells": [
  {
   "cell_type": "code",
   "execution_count": null,
   "id": "237c7956",
   "metadata": {},
   "outputs": [],
   "source": [
    "import os\n",
    "import pandas as pd\n",
    "import numpy as np\n",
    "import torch\n",
    "from torch.utils.data import Dataset\n",
    "from torch.utils.data import DataLoader, random_split\n",
    "import torch.nn as nn\n",
    "import torch.nn.functional as F"
   ]
  },
  {
   "cell_type": "code",
   "execution_count": 17,
   "id": "e148d889",
   "metadata": {},
   "outputs": [],
   "source": [
    "class StandardizingDosDataset(Dataset):\n",
    "    def __init__(self, root_dir, skiprows=4, max_rows=None):\n",
    "        self.samples = []\n",
    "        self.root_dir = root_dir\n",
    "\n",
    "        all_data = []\n",
    "\n",
    "        for class_name in sorted(os.listdir(root_dir)):\n",
    "            class_path = os.path.join(root_dir, class_name)\n",
    "            if not os.path.isdir(class_path):\n",
    "                continue\n",
    "\n",
    "            try:\n",
    "                class_label = int(class_name.split(\"_\")[-1])\n",
    "            except ValueError:\n",
    "                continue\n",
    "\n",
    "            for fname in os.listdir(class_path):\n",
    "                if fname.endswith(\".dat\"):\n",
    "                    fpath = os.path.join(class_path, fname)\n",
    "                    df = pd.read_csv(fpath, sep='\\s+', skiprows=skiprows, header=None)\n",
    "                    \n",
    "                    if max_rows:\n",
    "                        df = df.iloc[:max_rows]\n",
    "\n",
    "                    all_data.append(df.values)\n",
    "                    for row in df.values:\n",
    "                        self.samples.append((row, class_label))\n",
    "\n",
    "        all_data = np.vstack(all_data)  # [N, D]\n",
    "        self.mean = torch.tensor(all_data.mean(axis=0), dtype=torch.float32)\n",
    "        self.std = torch.tensor(all_data.std(axis=0), dtype=torch.float32)\n",
    "\n",
    "    def __len__(self):\n",
    "        return len(self.samples)\n",
    "\n",
    "    def __getitem__(self, idx):\n",
    "        x_np, label = self.samples[idx]\n",
    "        x = torch.tensor(x_np, dtype=torch.float32)\n",
    "        x = (x - self.mean) / (self.std + 1e-8)  # стандартизация\n",
    "        return x, label\n"
   ]
  },
  {
   "cell_type": "code",
   "execution_count": 18,
   "id": "15823c56",
   "metadata": {},
   "outputs": [],
   "source": [
    "dos_file_path = '../../Datasets/dos64/'\n",
    "dataset = StandardizingDosDataset(dos_file_path)\n",
    "dataloader = DataLoader(dataset, batch_size=64, shuffle=True)"
   ]
  },
  {
   "cell_type": "code",
   "execution_count": 21,
   "id": "f251965e",
   "metadata": {},
   "outputs": [
    {
     "name": "stdout",
     "output_type": "stream",
     "text": [
      "4190577\n"
     ]
    }
   ],
   "source": [
    "print(len(dataset))"
   ]
  }
 ],
 "metadata": {
  "kernelspec": {
   "display_name": "Python 3",
   "language": "python",
   "name": "python3"
  },
  "language_info": {
   "codemirror_mode": {
    "name": "ipython",
    "version": 3
   },
   "file_extension": ".py",
   "mimetype": "text/x-python",
   "name": "python",
   "nbconvert_exporter": "python",
   "pygments_lexer": "ipython3",
   "version": "3.10.12"
  }
 },
 "nbformat": 4,
 "nbformat_minor": 5
}
