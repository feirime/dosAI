{
 "cells": [
  {
   "cell_type": "code",
   "execution_count": 24,
   "id": "d13649ae",
   "metadata": {},
   "outputs": [],
   "source": [
    "import torch\n",
    "from torch.utils.data import Dataset\n",
    "from torchvision import datasets\n",
    "from torchvision.transforms import ToTensor\n",
    "import matplotlib.pyplot as plt\n"
   ]
  },
  {
   "cell_type": "code",
   "execution_count": 25,
   "id": "1e258f09",
   "metadata": {},
   "outputs": [],
   "source": [
    "dos_file_path = '../../DOS/dos64/gem_glass64_J0_0.dat'\n"
   ]
  },
  {
   "cell_type": "code",
   "execution_count": 26,
   "id": "f08bc1ff",
   "metadata": {},
   "outputs": [
    {
     "name": "stdout",
     "output_type": "stream",
     "text": [
      "['2', '-82', '-12\\n']\n"
     ]
    }
   ],
   "source": [
    "\n",
    "index = 0\n",
    "with open(dos_file_path, 'r') as f:\n",
    "    lines = f.readlines()\n",
    "    line = lines[index + 4].split(' ')\n",
    "    g, e, m = line\n",
    "print(line)"
   ]
  }
 ],
 "metadata": {
  "kernelspec": {
   "display_name": "Python 3",
   "language": "python",
   "name": "python3"
  },
  "language_info": {
   "codemirror_mode": {
    "name": "ipython",
    "version": 3
   },
   "file_extension": ".py",
   "mimetype": "text/x-python",
   "name": "python",
   "nbconvert_exporter": "python",
   "pygments_lexer": "ipython3",
   "version": "3.10.12"
  }
 },
 "nbformat": 4,
 "nbformat_minor": 5
}
