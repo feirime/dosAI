{
 "cells": [
  {
   "cell_type": "code",
   "execution_count": 1,
   "id": "d9caaab2",
   "metadata": {},
   "outputs": [],
   "source": [
    "import torch\n",
    "from torch.utils.data import DataLoader, random_split\n",
    "import torch.nn as nn\n",
    "import datetime\n",
    "from models import model\n",
    "from dataLoaders import dosDataLoader"
   ]
  },
  {
   "cell_type": "code",
   "execution_count": 2,
   "id": "5dc9360b",
   "metadata": {},
   "outputs": [
    {
     "name": "stdout",
     "output_type": "stream",
     "text": [
      "cuda\n",
      "Epoch 1, Loss: 0.5051\n",
      "Epoch 2, Loss: 0.4896\n",
      "Epoch 3, Loss: 0.4873\n",
      "Epoch 4, Loss: 0.4862\n",
      "Epoch 5, Loss: 0.4854\n",
      "Model saved to checkpoints/model2025-05-27-13-59-38.pth\n"
     ]
    }
   ],
   "source": [
    "dos_file_path = '../../Datasets/dos36/'\n",
    "dataset = dosDataLoader.StandardizingDosDataset(dos_file_path)\n",
    "train_size = int(0.8 * len(dataset))\n",
    "val_size = len(dataset) - train_size\n",
    "train_dataset, val_dataset = random_split(dataset, [train_size, val_size])\n",
    "train_loader = DataLoader(train_dataset, batch_size=32, shuffle=True)\n",
    "val_loader = DataLoader(val_dataset, batch_size=32)\n",
    "\n",
    "device = torch.device(\"cuda\" if torch.cuda.is_available() else \"cpu\")\n",
    "print(device)\n",
    "\n",
    "model = model.dosClassifier(input_dim=3).to(device)\n",
    "optimizer = torch.optim.Adam(model.parameters(), lr=1e-3)\n",
    "criterion = nn.CrossEntropyLoss()\n",
    "\n",
    "for epoch in range(5):\n",
    "    model.train()\n",
    "    total_loss = 0\n",
    "    for x, y in train_loader:\n",
    "        x, y = x.to(device), y.to(device)\n",
    "\n",
    "        optimizer.zero_grad()\n",
    "        logits = model(x)\n",
    "        loss = criterion(logits, y)\n",
    "        loss.backward()\n",
    "        optimizer.step()\n",
    "\n",
    "        total_loss += loss.item()\n",
    "\n",
    "    print(f\"Epoch {epoch+1}, Loss: {total_loss / len(train_loader):.4f}\")\n",
    "\n",
    "checkpoint_path = \"checkpoints/model\" + datetime.datetime.now().strftime(\"%Y-%m-%d-%H-%M-%S\") + \".pth\"\n",
    "torch.save(model.state_dict(), checkpoint_path)\n",
    "print(f\"Model saved to {checkpoint_path}\")\n"
   ]
  }
 ],
 "metadata": {
  "kernelspec": {
   "display_name": "Python 3",
   "language": "python",
   "name": "python3"
  },
  "language_info": {
   "codemirror_mode": {
    "name": "ipython",
    "version": 3
   },
   "file_extension": ".py",
   "mimetype": "text/x-python",
   "name": "python",
   "nbconvert_exporter": "python",
   "pygments_lexer": "ipython3",
   "version": "3.10.12"
  }
 },
 "nbformat": 4,
 "nbformat_minor": 5
}
