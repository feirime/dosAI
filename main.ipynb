{
 "cells": [
  {
   "cell_type": "code",
   "execution_count": 6,
   "id": "d9caaab2",
   "metadata": {},
   "outputs": [],
   "source": [
    "import os\n",
    "import pandas as pd\n",
    "import numpy as np\n",
    "import torch\n",
    "from torch.utils.data import Dataset\n",
    "from torch.utils.data import DataLoader, random_split\n",
    "import torch.nn as nn\n",
    "import torch.nn.functional as F\n",
    "import datetime\n",
    "from models import model\n",
    "from datasets import dosDataLoader"
   ]
  },
  {
   "cell_type": "code",
   "execution_count": null,
   "id": "5dc9360b",
   "metadata": {},
   "outputs": [
    {
     "name": "stdout",
     "output_type": "stream",
     "text": [
      "cuda\n",
      "Epoch 1, Loss: 0.3573\n",
      "Epoch 2, Loss: 0.3522\n",
      "Epoch 3, Loss: 0.3516\n",
      "Epoch 4, Loss: 0.3513\n",
      "Epoch 5, Loss: 0.3510\n",
      "Model saved to checkpoints/model20250523175651.pth\n"
     ]
    }
   ],
   "source": [
    "dos_file_path = '../../Datasets/dos64/'\n",
    "dataset = dosDataLoader.StandardizingDosDataset(dos_file_path)\n",
    "train_size = int(0.8 * len(dataset))\n",
    "val_size = len(dataset) - train_size\n",
    "train_dataset, val_dataset = random_split(dataset, [train_size, val_size])\n",
    "train_loader = DataLoader(train_dataset, batch_size=32, shuffle=True)\n",
    "val_loader = DataLoader(val_dataset, batch_size=32)\n",
    "\n",
    "device = torch.device(\"cuda\" if torch.cuda.is_available() else \"cpu\")\n",
    "print(device)\n",
    "\n",
    "model = model.dosClassifier(input_dim=3).to(device)\n",
    "optimizer = torch.optim.Adam(model.parameters(), lr=1e-3)\n",
    "criterion = nn.CrossEntropyLoss()\n",
    "\n",
    "for epoch in range(5):\n",
    "    model.train()\n",
    "    total_loss = 0\n",
    "    for x, y in train_loader:\n",
    "        x, y = x.to(device), y.to(device)\n",
    "\n",
    "        optimizer.zero_grad()\n",
    "        logits = model(x)\n",
    "        loss = criterion(logits, y)\n",
    "        loss.backward()\n",
    "        optimizer.step()\n",
    "\n",
    "        total_loss += loss.item()\n",
    "\n",
    "    print(f\"Epoch {epoch+1}, Loss: {total_loss / len(train_loader):.4f}\")\n",
    "\n",
    "checkpoint_path = \"checkpoints/model\" + datetime.datetime.now().strftime(\"%Y-%m-%d-%H-%M-%S\") + \".pth\"\n",
    "torch.save(model.state_dict(), checkpoint_path)\n",
    "print(f\"Model saved to {checkpoint_path}\")\n"
   ]
  },
  {
   "cell_type": "code",
   "execution_count": null,
   "id": "d5a39615",
   "metadata": {},
   "outputs": [
    {
     "data": {
      "text/plain": [
       "OrderedDict([('fc1.weight',\n",
       "              tensor([[-2.3452e+00,  2.8434e-01,  8.1569e-03],\n",
       "                      [ 1.1547e-02, -5.3314e-02,  6.1722e-04],\n",
       "                      [-6.7643e-02, -7.8720e-03, -1.2526e-02],\n",
       "                      [ 2.2410e-01,  8.5369e-01,  1.5063e+00],\n",
       "                      [ 1.9760e-01,  1.0724e+00,  9.0551e-02],\n",
       "                      [ 8.0630e-02, -1.4307e-01, -1.5058e-01],\n",
       "                      [ 2.3735e-01, -1.1827e+00, -4.0119e-02],\n",
       "                      [ 1.8415e-01,  9.5504e-01, -2.6107e-02],\n",
       "                      [-1.3456e-03,  1.6716e-04, -7.4186e-04],\n",
       "                      [ 1.6722e-01, -5.1292e-01, -1.3069e+00],\n",
       "                      [-1.2514e-01, -1.0157e-02,  6.8127e-02],\n",
       "                      [ 1.6109e-01, -7.3267e-02,  1.0489e+00],\n",
       "                      [ 1.8601e-01,  4.4830e-01,  1.2883e+00],\n",
       "                      [-1.0353e-02,  4.5239e-04,  9.5033e-03],\n",
       "                      [ 1.9973e-01, -1.0534e+00,  1.3873e-01],\n",
       "                      [ 1.4866e-02,  4.6369e-01, -1.7300e-02],\n",
       "                      [-2.4114e+00, -2.6648e-01,  3.4526e-02],\n",
       "                      [ 2.0735e-01,  6.3234e-01,  1.4560e+00],\n",
       "                      [-3.3124e-03, -1.6343e-03,  1.7022e-02],\n",
       "                      [ 1.6929e-01, -1.4748e-01,  1.0491e+00],\n",
       "                      [ 3.6442e-03, -3.2210e-03, -9.5506e-03],\n",
       "                      [ 2.6110e-01,  8.7440e-01, -1.6176e+00],\n",
       "                      [ 1.9599e-01, -2.4407e-02, -9.8793e-01],\n",
       "                      [-4.7045e-02, -4.7438e-01, -2.6119e-02],\n",
       "                      [-1.6894e-02, -4.2337e-04, -4.7705e-04],\n",
       "                      [ 2.5236e-01, -8.8376e-01,  1.6545e+00],\n",
       "                      [-1.5608e-03,  8.3458e-04,  2.3426e-03],\n",
       "                      [ 1.8312e-01,  5.4020e-01, -1.3353e+00],\n",
       "                      [ 1.7651e-01, -5.7490e-01,  1.4484e+00],\n",
       "                      [ 2.2854e-03, -8.7126e-05, -3.0382e-02],\n",
       "                      [ 2.6126e-01, -9.2485e-01, -1.7388e+00],\n",
       "                      [ 1.1413e-01,  4.1329e-02, -8.3136e-01]], device='cuda:0')),\n",
       "             ('fc1.bias',\n",
       "              tensor([-0.5392, -0.1279, -0.0662, -1.9826, -1.7135, -0.6665, -1.9978, -1.5704,\n",
       "                      -0.0041, -1.5686, -0.2100, -1.6140, -1.6588, -0.0249, -1.6872,  0.8879,\n",
       "                      -0.5627, -1.8054, -0.0498, -1.6809, -0.0281, -2.1573, -1.7557,  0.9232,\n",
       "                      -0.0067, -2.1253, -0.0089, -1.6417, -1.7241, -0.0707, -2.2391, -1.0762],\n",
       "                     device='cuda:0')),\n",
       "             ('fc2.weight',\n",
       "              tensor([[-1.0700e+00, -1.0486e-01,  7.4516e-04,  9.5203e-01,  1.3803e+00,\n",
       "                        3.4099e-02,  5.2989e+00,  1.5830e+00, -3.4960e-02, -1.3614e+01,\n",
       "                        1.1866e-01, -6.8918e-01, -1.6425e-02, -3.3504e-02, -7.7077e-02,\n",
       "                        1.4509e-01,  1.5406e+00,  3.4214e-01, -5.3556e-02, -1.3284e+00,\n",
       "                        5.5579e-02,  1.0757e+00, -1.1334e+00, -7.0029e-01, -8.0195e-02,\n",
       "                       -1.6847e+01, -1.3311e-02,  2.2935e-01, -1.1875e+01, -3.2916e-02,\n",
       "                       -1.5984e+01, -2.9298e-01],\n",
       "                      [-1.8689e-02, -7.3653e-02,  1.0674e-02, -7.0833e-02, -1.9906e+00,\n",
       "                        1.1448e-01, -3.8388e+00, -4.4022e+00, -3.4060e-02,  7.1866e-01,\n",
       "                        4.9657e-02, -1.4801e-01,  6.6192e-01, -3.3485e-02, -1.4320e+00,\n",
       "                        1.3300e-01,  6.7491e-02,  3.5369e-01, -5.5500e-02,  1.1388e-01,\n",
       "                        5.3438e-02,  3.9910e-02,  4.4621e-01,  1.6687e-01, -8.0322e-02,\n",
       "                        1.7283e-01, -1.3094e-02,  7.2124e-01,  6.1418e-01, -3.0609e-02,\n",
       "                        1.4537e-01,  4.9827e-02],\n",
       "                      [ 1.2504e+00, -5.0369e-02,  7.4929e-03, -1.6616e+01,  1.0087e+00,\n",
       "                       -3.7312e-02,  9.7115e-01,  4.9776e+00, -3.3409e-02,  1.9960e-02,\n",
       "                        2.4754e-02, -4.8118e-01, -1.0396e+01, -3.2835e-02,  1.0112e+00,\n",
       "                       -6.9323e-01, -1.0052e+00, -1.3436e+01, -5.6890e-02, -3.1593e-01,\n",
       "                        5.3159e-02, -1.6784e+01, -1.0882e+00,  2.3434e-01, -8.0246e-02,\n",
       "                        1.1358e+00, -1.0739e-02, -1.8343e+01,  5.7271e-02, -3.0181e-02,\n",
       "                        1.2194e+00, -2.5180e-01]], device='cuda:0')),\n",
       "             ('fc2.bias',\n",
       "              tensor([-0.7615,  1.1944, -0.9147], device='cuda:0'))])"
      ]
     },
     "execution_count": 12,
     "metadata": {},
     "output_type": "execute_result"
    }
   ],
   "source": [
    "torch.load(\"checkpoints/model2025-05-23-18-02-35.pth\")\n"
   ]
  }
 ],
 "metadata": {
  "kernelspec": {
   "display_name": "Python 3",
   "language": "python",
   "name": "python3"
  },
  "language_info": {
   "codemirror_mode": {
    "name": "ipython",
    "version": 3
   },
   "file_extension": ".py",
   "mimetype": "text/x-python",
   "name": "python",
   "nbconvert_exporter": "python",
   "pygments_lexer": "ipython3",
   "version": "3.10.12"
  }
 },
 "nbformat": 4,
 "nbformat_minor": 5
}
