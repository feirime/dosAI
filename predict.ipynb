{
 "cells": [
  {
   "cell_type": "code",
   "execution_count": 18,
   "id": "eb168b83",
   "metadata": {},
   "outputs": [],
   "source": [
    "import torch\n",
    "from torch.utils.data import DataLoader\n",
    "from torch.nn import functional as F\n",
    "from models.model import dosClassifier\n",
    "from dataLoaders.dosDataLoader import StandardizingDosDataset"
   ]
  },
  {
   "cell_type": "code",
   "execution_count": 19,
   "id": "2440d4f7",
   "metadata": {},
   "outputs": [],
   "source": [
    "chekpoint_path = \"checkpoints/model2025-05-27-13-08-41.pth\"\n",
    "dos_file_path = '../../Datasets/dos36/'"
   ]
  },
  {
   "cell_type": "code",
   "execution_count": 20,
   "id": "1e36cede",
   "metadata": {},
   "outputs": [
    {
     "data": {
      "text/plain": [
       "dosClassifier(\n",
       "  (fc1): Linear(in_features=3, out_features=32, bias=True)\n",
       "  (fc2): Linear(in_features=32, out_features=3, bias=True)\n",
       ")"
      ]
     },
     "execution_count": 20,
     "metadata": {},
     "output_type": "execute_result"
    }
   ],
   "source": [
    "model = dosClassifier(input_dim=3)\n",
    "state_dict = torch.load(chekpoint_path)\n",
    "model.load_state_dict(state_dict)\n",
    "#device = torch.device(\"cuda\" if torch.cuda.is_available() else \"cpu\")\n",
    "#model.to(device)\n",
    "#print(device)\n",
    "model.eval()"
   ]
  },
  {
   "cell_type": "code",
   "execution_count": null,
   "id": "b176115c",
   "metadata": {},
   "outputs": [
    {
     "ename": "IndexError",
     "evalue": "Dimension out of range (expected to be in range of [-2, 1], but got 32)",
     "output_type": "error",
     "traceback": [
      "\u001b[0;31m---------------------------------------------------------------------------\u001b[0m",
      "\u001b[0;31mIndexError\u001b[0m                                Traceback (most recent call last)",
      "Cell \u001b[0;32mIn[24], line 7\u001b[0m\n\u001b[1;32m      5\u001b[0m \u001b[38;5;28;01mwith\u001b[39;00m torch\u001b[38;5;241m.\u001b[39mno_grad():\n\u001b[1;32m      6\u001b[0m     outputs \u001b[38;5;241m=\u001b[39m model(x)\n\u001b[0;32m----> 7\u001b[0m     x \u001b[38;5;241m=\u001b[39m \u001b[43mx\u001b[49m\u001b[38;5;241;43m.\u001b[39;49m\u001b[43munsqueeze\u001b[49m\u001b[43m(\u001b[49m\u001b[38;5;241;43m32\u001b[39;49m\u001b[43m)\u001b[49m\n\u001b[1;32m      8\u001b[0m     probabilities \u001b[38;5;241m=\u001b[39m F\u001b[38;5;241m.\u001b[39msoftmax(outputs, dim\u001b[38;5;241m=\u001b[39m\u001b[38;5;241m1\u001b[39m)\n",
      "\u001b[0;31mIndexError\u001b[0m: Dimension out of range (expected to be in range of [-2, 1], but got 32)"
     ]
    }
   ],
   "source": [
    "test_dataset = StandardizingDosDataset(dos_file_path)\n",
    "test_dataLoader = DataLoader(test_dataset, batch_size=64, shuffle=False)\n",
    "\n",
    "for x, y in test_dataset:\n",
    "    with torch.no_grad():\n",
    "        outputs = model(x)\n",
    "        probabilities = F.softmax(outputs, dim=1)"
   ]
  },
  {
   "cell_type": "code",
   "execution_count": null,
   "id": "7c5a82f5",
   "metadata": {},
   "outputs": [
    {
     "name": "stdout",
     "output_type": "stream",
     "text": [
      "tensor([ 0.8534, -3.0942,  2.7880])\n"
     ]
    }
   ],
   "source": [
    "print(probabilities)"
   ]
  }
 ],
 "metadata": {
  "kernelspec": {
   "display_name": "Python 3",
   "language": "python",
   "name": "python3"
  },
  "language_info": {
   "codemirror_mode": {
    "name": "ipython",
    "version": 3
   },
   "file_extension": ".py",
   "mimetype": "text/x-python",
   "name": "python",
   "nbconvert_exporter": "python",
   "pygments_lexer": "ipython3",
   "version": "3.10.12"
  }
 },
 "nbformat": 4,
 "nbformat_minor": 5
}
