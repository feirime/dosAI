{
 "cells": [
  {
   "cell_type": "code",
   "execution_count": null,
   "id": "eb168b83",
   "metadata": {},
   "outputs": [],
   "source": [
    "import torch\n",
    "from torch.utils.data import DataLoader\n",
    "from models.model import dosClassifier\n",
    "from dataLoaders.dosDataLoader import StandardizingDosDataset"
   ]
  },
  {
   "cell_type": "code",
   "execution_count": null,
   "id": "2440d4f7",
   "metadata": {},
   "outputs": [],
   "source": [
    "chekpoint_path = \"checkpoints/model2025-05-23-18-02-35.pth\"\n",
    "dos_file_path = '../../Datasets/dos36/'"
   ]
  },
  {
   "cell_type": "code",
   "execution_count": null,
   "id": "1e36cede",
   "metadata": {},
   "outputs": [
    {
     "data": {
      "text/plain": [
       "dosClassifier(\n",
       "  (fc1): Linear(in_features=3, out_features=32, bias=True)\n",
       "  (fc2): Linear(in_features=32, out_features=3, bias=True)\n",
       ")"
      ]
     },
     "execution_count": 6,
     "metadata": {},
     "output_type": "execute_result"
    }
   ],
   "source": [
    "model = dosClassifier(input_dim=3)\n",
    "state_dict = torch.load(chekpoint_path)\n",
    "model.load_state_dict(state_dict)\n",
    "#device = torch.device(\"cuda\" if torch.cuda.is_available() else \"cpu\")\n",
    "#model.to(device)\n",
    "#print(device)\n",
    "model.eval()"
   ]
  },
  {
   "cell_type": "code",
   "execution_count": 8,
   "id": "b176115c",
   "metadata": {},
   "outputs": [],
   "source": [
    "test_dataset = StandardizingDosDataset(dos_file_path)\n",
    "test_dataLoader = DataLoader(test_dataset, batch_size=64, shuffle=False)\n",
    "\n",
    "for x, y in test_dataset:\n",
    "    with torch.no_grad():\n",
    "        pred = model(x)"
   ]
  },
  {
   "cell_type": "code",
   "execution_count": 9,
   "id": "7c5a82f5",
   "metadata": {},
   "outputs": [
    {
     "name": "stdout",
     "output_type": "stream",
     "text": [
      "tensor([ 0.8534, -3.0942,  2.7880])\n"
     ]
    }
   ],
   "source": [
    "print(pred)"
   ]
  }
 ],
 "metadata": {
  "kernelspec": {
   "display_name": "Python 3",
   "language": "python",
   "name": "python3"
  },
  "language_info": {
   "codemirror_mode": {
    "name": "ipython",
    "version": 3
   },
   "file_extension": ".py",
   "mimetype": "text/x-python",
   "name": "python",
   "nbconvert_exporter": "python",
   "pygments_lexer": "ipython3",
   "version": "3.10.12"
  }
 },
 "nbformat": 4,
 "nbformat_minor": 5
}
