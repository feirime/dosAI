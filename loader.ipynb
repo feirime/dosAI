{
 "cells": [
  {
   "cell_type": "code",
   "execution_count": 2,
   "id": "2daf9e59",
   "metadata": {},
   "outputs": [],
   "source": [
    "import os\n",
    "import pandas as pd\n",
    "import torch\n",
    "from torch.utils.data import Dataset"
   ]
  },
  {
   "cell_type": "code",
   "execution_count": null,
   "id": "1ee9e320",
   "metadata": {},
   "outputs": [],
   "source": [
    "class StandartScaler:\n",
    "    def __init__ (self, mean: torch.Tensor, std: torch.Tensor):\n",
    "        self.mean = mean    \n",
    "        self.std = std\n",
    "        \n",
    "    def __call__(self, x: torch.Tensor) -> torch.Tensor:\n",
    "        return (x - self.mean) / self.std\n",
    "\n"
   ]
  },
  {
   "cell_type": "code",
   "execution_count": null,
   "id": "52c25fbc",
   "metadata": {},
   "outputs": [],
   "source": [
    "class DosDataset(Dataset):\n",
    "    def __init__(self, root_dir, transform=None):\n",
    "        self.samples = []  # [(tensor_row, label), ...]\n",
    "\n",
    "        # Предполагаем: папки внутри root_dir — это имена классов (class_0, class_1, ...)\n",
    "        for class_name in sorted(os.listdir(root_dir)):\n",
    "            class_path = os.path.join(root_dir, class_name)\n",
    "            if not os.path.isdir(class_path):\n",
    "                continue\n",
    "            class_label = int(class_name.split(\"_\")[-1])  # например: class_0 → 0\n",
    "\n",
    "            for fname in os.listdir(class_path):\n",
    "                if fname.endswith(\".dat\"):\n",
    "                    fpath = os.path.join(class_path, fname)\n",
    "                    df = pd.read_csv(fpath, sep='\\s+', skiprows=4, header=None)\n",
    "                    for row in df.values:\n",
    "                        feature_tensor = torch.tensor(row, dtype=torch.float32)\n",
    "                        self.samples.append((feature_tensor, class_label))\n",
    "\n",
    "        self.transform = transform\n",
    "\n",
    "    def __len__(self):\n",
    "        return len(self.samples)\n",
    "\n",
    "    def __getitem__(self, idx):\n",
    "        x, y = self.samples[idx]\n",
    "        if self.transform:\n",
    "            x = self.transform(x)\n",
    "        return x, y\n"
   ]
  },
  {
   "cell_type": "code",
   "execution_count": 4,
   "id": "7a9faa58",
   "metadata": {},
   "outputs": [],
   "source": [
    "dos_file_path = '../../Datasets/dos64/'"
   ]
  },
  {
   "cell_type": "code",
   "execution_count": 5,
   "id": "c6e77f03",
   "metadata": {},
   "outputs": [],
   "source": [
    "from torch.utils.data import DataLoader\n",
    "\n",
    "dataset = DosDataset(dos_file_path)\n",
    "dataloader = DataLoader(dataset, batch_size=64, shuffle=True)\n"
   ]
  },
  {
   "cell_type": "code",
   "execution_count": 6,
   "id": "9d8fc877",
   "metadata": {},
   "outputs": [
    {
     "name": "stdout",
     "output_type": "stream",
     "text": [
      "torch.Size([64, 3])\n",
      "torch.Size([64])\n"
     ]
    }
   ],
   "source": [
    "\n",
    "for X, y in dataloader:\n",
    "    print(X.shape)  # torch.Size([32, 3])\n",
    "    print(y.shape)  # torch.Size([32])\n",
    "    break"
   ]
  }
 ],
 "metadata": {
  "kernelspec": {
   "display_name": "Python 3",
   "language": "python",
   "name": "python3"
  },
  "language_info": {
   "codemirror_mode": {
    "name": "ipython",
    "version": 3
   },
   "file_extension": ".py",
   "mimetype": "text/x-python",
   "name": "python",
   "nbconvert_exporter": "python",
   "pygments_lexer": "ipython3",
   "version": "3.10.12"
  }
 },
 "nbformat": 4,
 "nbformat_minor": 5
}
