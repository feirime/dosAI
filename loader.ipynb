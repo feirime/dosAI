{
 "cells": [
  {
   "cell_type": "code",
   "execution_count": 1,
   "id": "2daf9e59",
   "metadata": {},
   "outputs": [],
   "source": [
    "import os\n",
    "import pandas as pd\n",
    "import torch\n",
    "from torch.utils.data import Dataset\n",
    "from torch.utils.data import DataLoader"
   ]
  },
  {
   "cell_type": "code",
   "execution_count": 2,
   "id": "52c25fbc",
   "metadata": {},
   "outputs": [],
   "source": [
    "class DosDataset(Dataset):\n",
    "    def __init__(self, root_dir, transform=None):\n",
    "        self.samples = []  # [(tensor_row, label), ...]\n",
    "\n",
    "        # Предполагаем: папки внутри root_dir — это имена классов (class_0, class_1, ...)\n",
    "        for class_name in sorted(os.listdir(root_dir)):\n",
    "            class_path = os.path.join(root_dir, class_name)\n",
    "            if not os.path.isdir(class_path):\n",
    "                continue\n",
    "            class_label = int(class_name.split(\"_\")[-1])  # например: class_0 → 0\n",
    "\n",
    "            for fname in os.listdir(class_path):\n",
    "                if fname.endswith(\".dat\"):\n",
    "                    fpath = os.path.join(class_path, fname)\n",
    "                    df = pd.read_csv(fpath, sep='\\s+', skiprows=4, header=None)\n",
    "                    for row in df.values:\n",
    "                        feature_tensor = torch.tensor(row, dtype=torch.float32)\n",
    "                        self.samples.append((feature_tensor, class_label))\n",
    "\n",
    "        self.transform = transform\n",
    "\n",
    "    def __len__(self):\n",
    "        return len(self.samples)\n",
    "\n",
    "    def __getitem__(self, idx):\n",
    "        x, y = self.samples[idx]\n",
    "        if self.transform:\n",
    "            x = self.transform(x)\n",
    "        return x, y\n"
   ]
  },
  {
   "cell_type": "code",
   "execution_count": 3,
   "id": "7a9faa58",
   "metadata": {},
   "outputs": [],
   "source": [
    "dos_file_path = '../../Datasets/dos64/'"
   ]
  },
  {
   "cell_type": "code",
   "execution_count": null,
   "id": "c6e77f03",
   "metadata": {},
   "outputs": [
    {
     "name": "stdout",
     "output_type": "stream",
     "text": [
      "(tensor([   2., -100.,    0.]), 0)\n"
     ]
    },
    {
     "ename": "",
     "evalue": "",
     "output_type": "error",
     "traceback": [
      "\u001b[1;31mThe Kernel crashed while executing code in the current cell or a previous cell. \n",
      "\u001b[1;31mPlease review the code in the cell(s) to identify a possible cause of the failure. \n",
      "\u001b[1;31mClick <a href='https://aka.ms/vscodeJupyterKernelCrash'>here</a> for more info. \n",
      "\u001b[1;31mView Jupyter <a href='command:jupyter.viewOutput'>log</a> for further details."
     ]
    }
   ],
   "source": [
    "\n",
    "\n",
    "dataset = DosDataset(dos_file_path)\n",
    "print(dataset[0])\n",
    "dataloader = DataLoader(dataset, batch_size=64, shuffle=True)\n"
   ]
  },
  {
   "cell_type": "code",
   "execution_count": null,
   "id": "9d8fc877",
   "metadata": {},
   "outputs": [],
   "source": [
    "\n",
    "for X, y in dataloader:\n",
    "    print(X.shape)  # torch.Size([32, 3])\n",
    "    print(y.shape)  # torch.Size([32])\n",
    "    break"
   ]
  }
 ],
 "metadata": {
  "kernelspec": {
   "display_name": "Python 3",
   "language": "python",
   "name": "python3"
  },
  "language_info": {
   "codemirror_mode": {
    "name": "ipython",
    "version": 3
   },
   "file_extension": ".py",
   "mimetype": "text/x-python",
   "name": "python",
   "nbconvert_exporter": "python",
   "pygments_lexer": "ipython3",
   "version": "3.10.12"
  }
 },
 "nbformat": 4,
 "nbformat_minor": 5
}
